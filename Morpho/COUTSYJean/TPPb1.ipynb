{
 "cells": [
  {
   "cell_type": "markdown",
   "metadata": {},
   "source": [
    "Problem 1.\n",
    "\n",
    "1.    Segment all the cells of the attached uranium oxide image\n",
    "2.    Remove the cells that touch the frame of the image\n",
    "3.    Give some statistics about the cells (number, average size, etc.)\n",
    "\n",
    "Hint: you can use the howto below to find some useful pink commands\n",
    "\n",
    "Problem 2. (Segmentation of red blood cells)\n",
    "\n",
    "Based on what you have seen in the course:\n",
    "\n",
    "1.    Segment all the red blood cells in the atteched bloodCells image.\n",
    "2.    Remove the ones that touch the edge of the image.\n",
    "3.    Separate the cells that are touching each other.\n",
    "4.    Give some statistics about the globules (number, average size).\n",
    "\n",
    "\n",
    "Hint: step 3 is tricky. It needs the notion of a distance map* of a binary object."
   ]
  },
  {
   "cell_type": "code",
   "execution_count": 2,
   "metadata": {},
   "outputs": [
    {
     "ename": "SyntaxError",
     "evalue": "invalid syntax (1204115862.py, line 1)",
     "output_type": "error",
     "traceback": [
      "\u001b[0;36m  Cell \u001b[0;32mIn[2], line 1\u001b[0;36m\u001b[0m\n\u001b[0;31m    Problem 1.\u001b[0m\n\u001b[0m            ^\u001b[0m\n\u001b[0;31mSyntaxError\u001b[0m\u001b[0;31m:\u001b[0m invalid syntax\n"
     ]
    }
   ],
   "source": []
  }
 ],
 "metadata": {
  "kernelspec": {
   "display_name": "Python 3",
   "language": "python",
   "name": "python3"
  },
  "language_info": {
   "codemirror_mode": {
    "name": "ipython",
    "version": 3
   },
   "file_extension": ".py",
   "mimetype": "text/x-python",
   "name": "python",
   "nbconvert_exporter": "python",
   "pygments_lexer": "ipython3",
   "version": "3.0.0"
  }
 },
 "nbformat": 4,
 "nbformat_minor": 2
}
